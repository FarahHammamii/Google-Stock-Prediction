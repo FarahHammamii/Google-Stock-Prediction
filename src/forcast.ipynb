{
 "cells": [
  {
   "cell_type": "code",
   "execution_count": null,
   "id": "e8e84974",
   "metadata": {},
   "outputs": [],
   "source": [
    "import joblib"
   ]
  },
  {
   "cell_type": "code",
   "execution_count": null,
   "id": "127f4e94",
   "metadata": {},
   "outputs": [],
   "source": [
    "from keras.models import load_model\n",
    "import numpy as np"
   ]
  },
  {
   "cell_type": "code",
   "execution_count": null,
   "id": "921080b9",
   "metadata": {},
   "outputs": [],
   "source": [
    "import firebase_admin\n",
    "from firebase_admin import credentials, firestore\n",
    "import pandas as pd\n",
    "\n",
    "if not firebase_admin._apps:\n",
    "    cred = credentials.Certificate(\"firebase_key.json\")\n",
    "    firebase_admin.initialize_app(cred)\n",
    "\n",
    "db = firestore.client()\n"
   ]
  },
  {
   "cell_type": "code",
   "execution_count": null,
   "id": "3dd4843d",
   "metadata": {},
   "outputs": [],
   "source": [
    "def predict_next_days(model, scaler, data, n_steps=100, days=7):\n",
    "    recent_data = data[-n_steps:]\n",
    "    input_seq = scaler.transform(recent_data)\n",
    "    predictions = []\n",
    "\n",
    "    for _ in range(days):\n",
    "        input_reshaped = input_seq.reshape(1, n_steps, -1)\n",
    "        pred = model.predict(input_reshaped, verbose=0)\n",
    "        predictions.append(pred[0][0])\n",
    "        \n",
    "        next_step = np.zeros((1, input_seq.shape[1]))  \n",
    "        next_step[0][0] = pred\n",
    "        input_seq = np.vstack((input_seq[1:], next_step)) \n",
    "\n",
    "    return scaler.inverse_transform(np.array(predictions).reshape(-1, 1))\n"
   ]
  },
  {
   "cell_type": "code",
   "execution_count": null,
   "id": "abb6bc6c",
   "metadata": {},
   "outputs": [],
   "source": [
    "import smtplib\n",
    "from email.mime.multipart import MIMEMultipart\n",
    "from email.mime.text import MIMEText\n",
    "\n",
    "def send_email_report(predictions, to_email):\n",
    "    msg = MIMEMultipart()\n",
    "    msg['From'] = \"your_email@gmail.com\"\n",
    "    msg['To'] = to_email\n",
    "    msg['Subject'] = \"GOOGL Stock Predictions Report\"\n",
    "\n",
    "    html = \"<h3>Predictions for the next days</h3><ul>\"\n",
    "    for i, val in enumerate(predictions, 1):\n",
    "        html += f\"<li>Day {i}: {val[0]:.2f}</li>\"\n",
    "    html += \"</ul>\"\n",
    "\n",
    "    msg.attach(MIMEText(html, 'html'))\n",
    "\n",
    "    with smtplib.SMTP_SSL('smtp.gmail.com', 465) as server:\n",
    "        server.login(\"your_email@gmail.com\", \"your_app_password\")\n",
    "        server.send_message(msg)\n"
   ]
  },
  {
   "cell_type": "code",
   "execution_count": null,
   "id": "9d2c8d2d",
   "metadata": {},
   "outputs": [],
   "source": [
    "def forecast_and_send_email():\n",
    "    scaler = joblib.load('scaler.gz')\n",
    "    scaled_data = scaler.transform(db)\n",
    "\n",
    "\n",
    "    model = load_model(\"your_trained_model.h5\")\n",
    "\n",
    "\n",
    "    predictions = predict_next_days(model, scaler, scaled_data, n_steps=100, days=7)\n",
    "\n",
    "    send_email_report(predictions, \"recipient_email@example.com\")\n",
    "\n",
    "\n",
    "\n"
   ]
  },
  {
   "cell_type": "code",
   "execution_count": null,
   "id": "7f2b7bf6",
   "metadata": {},
   "outputs": [],
   "source": [
    "import schedule\n",
    "import time\n",
    "schedule.every().day.at(\"08:00\").do(forecast_and_send_email)\n",
    "\n",
    "while True:\n",
    "    schedule.run_pending()\n",
    "    time.sleep(60)  \n"
   ]
  }
 ],
 "metadata": {
  "kernelspec": {
   "display_name": "auto",
   "language": "python",
   "name": "python3"
  },
  "language_info": {
   "name": "python",
   "version": "3.12.3"
  }
 },
 "nbformat": 4,
 "nbformat_minor": 5
}
